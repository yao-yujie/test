{
 "cells": [
  {
   "cell_type": "code",
   "execution_count": 2,
   "metadata": {},
   "outputs": [],
   "source": [
    "from xspec import *\n",
    "Det=['b0','b1','n0','n1','n2','n3','n4','n5','n6','n7','n8','n9','na','nb']\n",
    "data=' '.join([det+'.pha' for det in Det])\n",
    "\n",
    "AllData(data)\n",
    "AllData.ignore('1-2:**-200.0,40000.0-** 3-14:**-8.0,800.0-**')\n",
    "AllData.show()\n",
    "Model(\"cutoffpl+bbody\")\n",
    "Fit.nIterations=1000\n",
    "Fit.statMethod='pgstat'\n",
    "Fit.perform()\n",
    "Fit.error(\"3.0 2\")\n",
    "Fit.perform()\n",
    "\n",
    "Plot.device = \"/xs\"\n",
    "Plot.xAxis='keV'\n",
    "Plot.yLog=True\n",
    "Plot(\"eufspec\")"
   ]
  },
  {
   "cell_type": "code",
   "execution_count": 6,
   "metadata": {},
   "outputs": [],
   "source": [
    "from xspec import *\n",
    "\n",
    "Det=['b0','b1','n0','n1','n2','n3','n4','n5','n6','n7','n8','n9','na','nb',]\n",
    "data=' '.join([det+'.pha' for det in Det])\n",
    "AllData(data)\n",
    "AllData.ignore('1-2:**-200.0,40000.0-** 3-14:**-8.0,800.0-**')\n",
    "AllData.show()\n",
    "\n",
    "Model(\"grbm\")\n",
    "Fit.nIterations=1000\n",
    "Fit.statMethod='pgstat'\n",
    "Fit.perform()\n",
    "Fit.error(\"3.0 2\")\n",
    "Fit.perform()\n",
    "\n",
    "Plot.device = \"/xs\"\n",
    "Plot.xAxis='keV'\n",
    "Plot.yLog=True\n",
    "Plot(\"eeufspec\")"
   ]
  },
  {
   "cell_type": "code",
   "execution_count": 23,
   "metadata": {},
   "outputs": [],
   "source": [
    "from xspec import *\n",
    "\n",
    "Det=['b0','n4']\n",
    "data=' '.join([det+'.pha' for det in Det])\n",
    "AllData(data)\n",
    "AllData.ignore('1:**-200.0,40000.0-** 2 :**-8.0,800.0-**')\n",
    "AllData.show()\n",
    "\n",
    "Model(\"grbm\")\n",
    "Fit.nIterations=1000\n",
    "Fit.statMethod='pgstat'\n",
    "Fit.perform()\n",
    "\n",
    "\n",
    "Plot.device = \"/xs\"\n",
    "Plot.xAxis='keV'\n",
    "Plot.yLog=True\n",
    "Plot(\"eeufspec\")"
   ]
  },
  {
   "cell_type": "code",
   "execution_count": null,
   "metadata": {},
   "outputs": [],
   "source": []
  }
 ],
 "metadata": {
  "kernelspec": {
   "display_name": "Python 3",
   "language": "python",
   "name": "python3"
  },
  "language_info": {
   "codemirror_mode": {
    "name": "ipython",
    "version": 3
   },
   "file_extension": ".py",
   "mimetype": "text/x-python",
   "name": "python",
   "nbconvert_exporter": "python",
   "pygments_lexer": "ipython3",
   "version": "3.6.7"
  }
 },
 "nbformat": 4,
 "nbformat_minor": 2
}
